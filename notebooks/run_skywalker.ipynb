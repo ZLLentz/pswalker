{
 "cells": [
  {
   "cell_type": "markdown",
   "metadata": {},
   "source": [
    "# Skywalker algorithm against the lcls mirror systems"
   ]
  },
  {
   "cell_type": "code",
   "execution_count": 1,
   "metadata": {
    "collapsed": true
   },
   "outputs": [],
   "source": [
    "SIMULATION = True\n",
    "ALIGNMENT = 'HOMS'\n",
    "#ALIGNMENT = 'MEC'\n",
    "#ALIGNMENT = 'MFX'\n",
    "#ALIGNMENT = 'XCS'\n",
    "\n",
    "alignment_goals = dict(HOMS=[210, 270],\n",
    "                       MEC=[270],\n",
    "                       MFX=[270],\n",
    "                       XCS=[270, 270])\n",
    "first_steps = 10 # Naive first step for the parameters search\n",
    "tolerances = 2.0 # Tolerance of each target in Pixels\n",
    "average = 1 # Number of shots to average over\n",
    "log_level = \"INFO\"\n",
    "\n",
    "# PARAMETERS FOR SIMULATION ONLY\n",
    "centroid_noise = 5.0 # Noise level of centroid measurements\n",
    "infinite_yag = False # Assume all yags are infinitely large"
   ]
  },
  {
   "cell_type": "code",
   "execution_count": 2,
   "metadata": {
    "collapsed": true
   },
   "outputs": [],
   "source": [
    "############\n",
    "# Standard #\n",
    "############\n",
    "import os\n",
    "import sys\n",
    "import logging\n",
    "import argparse\n",
    "\n",
    "###############\n",
    "# Third Party #\n",
    "###############\n",
    "from bluesky import RunEngine\n",
    "from bluesky.tests.utils import MsgCollector\n",
    "from bluesky.plans import run_wrapper\n",
    "from pcdsdevices.sim import pim, source, mirror"
   ]
  },
  {
   "cell_type": "code",
   "execution_count": 3,
   "metadata": {},
   "outputs": [
    {
     "name": "stderr",
     "output_type": "stream",
     "text": [
      "2017-07-27 14:25:16,509 - INFO - pswalker.examples - Patching 2 pim(s)\n",
      "2017-07-27 14:25:16,511 - INFO - pswalker.examples - Patching 1 pim(s)\n"
     ]
    }
   ],
   "source": [
    "\"\"\"\n",
    "Parameters\n",
    "----------\n",
    "\"\"\"\n",
    "#Configure logger\n",
    "log_level = getattr(logging, log_level, None)\n",
    "\n",
    "#Report invalid logging level\n",
    "if not isinstance(log_level, int):\n",
    "    raise ValueError(\"Invalid log level : {}\".format(log_level))\n",
    "\n",
    "#Create basic configuration\n",
    "logging.basicConfig(level=log_level,\n",
    "                format='%(asctime)s - %(levelname)s - %(name)s - %(message)s')\n",
    "\n",
    "from pswalker.examples  import patch_pims\n",
    "from pswalker.skywalker import skywalker\n",
    "from pswalker.plans import walk_to_pixel\n",
    "from pswalker.watcher import Watcher\n",
    "#Instantiate simulation\n",
    "if not SIMULATION:\n",
    "    print(\"*\"*80)\n",
    "    print(\"* WARNING: Running on real devices in Production...\")\n",
    "    print(\"*\"*80)\n",
    "    input(\"Press any key to continue...\")\n",
    "    system = homs_system()\n",
    "    m1h = system['m1h']\n",
    "    m1h2 = system['m1h2']\n",
    "    m2h = system['m2h']\n",
    "    m2h2 = system['m2h2']\n",
    "    xrtm2 = system['xrtm2']\n",
    "    xrtm22 = system['xrtm22']\n",
    "    hx2 = system['hx2']\n",
    "    dg3 = system['dg3']\n",
    "    mfxdg1 = system['mfxdg1']\n",
    "    mecy1 = system['mecy1']\n",
    "    m1 = m1h\n",
    "    m2 = m2h\n",
    "    y1 = hx2\n",
    "    y2 = dg3\n",
    "else:\n",
    "    s = source.Undulator('test_undulator')\n",
    "    m1 = mirror.OffsetMirror('test_m1h', z=90.510, alpha=0.0014)\n",
    "    m2 = mirror.OffsetMirror('test_m2h', x=0.0317324, z=101.843, alpha=0.0014)\n",
    "    xrtm2 = mirror.OffsetMirror('test_xrtm2', x=0.0317324, z=200, alpha=0.0014)\n",
    "    y1 = pim.PIM('test_p3h', x=0.0317324, z=103.660,\n",
    "             zero_outside_yag= not infinite_yag)\n",
    "    y2 = pim.PIM('test_dg3', x=0.0317324, z=375.000,\n",
    "             zero_outside_yag= not infinite_yag)\n",
    "    mecy1 = pim.PIM('test_mecy1', x=0.0317324, z=350,\n",
    "             zero_outside_yag= not infinite_yag)\n",
    "    mfxdg1 = mecy1\n",
    "    patch_pims([y1, y2], mirrors=[m1, m2], source=s)\n",
    "    patch_pims([mecy1], mirrors=[xrtm2], source=s)\n",
    "\n",
    "    #Add noise\n",
    "    y1.centroid_noise = centroid_noise\n",
    "    y2.centroid_noise = centroid_noise\n",
    "    mecy1.centroid_noise = centroid_noise\n",
    "\n",
    "alignment_yags = dict(HOMS=[y1, y2],\n",
    "                      MEC=[mecy1],\n",
    "                      MFX=[mfxdg1],\n",
    "                      XCS=['pbty', 'xcssb1y'])\n",
    "alignment_mots = dict(HOMS=[m1, m2],\n",
    "                      MEC=[xrtm2],\n",
    "                      MFX=[xrtm2],\n",
    "                      XCS=['xrtm1', 'xrtm3'])"
   ]
  },
  {
   "cell_type": "code",
   "execution_count": 4,
   "metadata": {
    "collapsed": true
   },
   "outputs": [],
   "source": [
    "#Create Skywalker plan\n",
    "yags = alignment_yags[ALIGNMENT]\n",
    "mots = alignment_mots[ALIGNMENT]\n",
    "goals = alignment_goals[ALIGNMENT]\n",
    "if SIMULATION:\n",
    "    det_rbv = 'detector_stats2_centroid_x'\n",
    "else:\n",
    "    det_rbv = 'detector_stats2_centroid_y'\n",
    "mot_rbv = 'pitch'\n",
    "plan = skywalker(yags, mots, det_rbv, mot_rbv,\n",
    "        goals, first_steps=first_steps, tolerances=tolerances,\n",
    "        averages=average, timeout=10)  "
   ]
  },
  {
   "cell_type": "code",
   "execution_count": 5,
   "metadata": {},
   "outputs": [
    {
     "data": {
      "text/plain": [
       "0"
      ]
     },
     "execution_count": 5,
     "metadata": {},
     "output_type": "execute_result"
    }
   ],
   "source": [
    "#Create RunEngine\n",
    "RE = RunEngine({})\n",
    "#Subscribe a Watcher instance\n",
    "watcher = Watcher()\n",
    "RE.msg_hook = watcher\n",
    "RE.subscribe('all',  watcher)\n"
   ]
  },
  {
   "cell_type": "code",
   "execution_count": 6,
   "metadata": {},
   "outputs": [
    {
     "name": "stderr",
     "output_type": "stream",
     "text": [
      "2017-07-27 14:25:16,791 - INFO - pswalker.plans - Averaged data yielded TST:test_p3h_detector_stats2_centroid_x is at 2989.999903642917\n",
      "2017-07-27 14:25:16,793 - INFO - pswalker.callbacks - Unable to yield estimate from model Model(linear)\n",
      "2017-07-27 14:25:16,795 - INFO - pswalker.plans - Walking motor, error after step #0 -> -2779.999903642917\n",
      "2017-07-27 14:25:16,796 - INFO - pswalker.plans - No model yielded accurate prediction, using naive plan\n",
      "2017-07-27 14:25:16,914 - INFO - pswalker.plans - Averaged data yielded TST:test_p3h_detector_stats2_centroid_x is at 2970.9572537061918\n",
      "2017-07-27 14:25:16,915 - INFO - pswalker.plans - Walking motor, error after step #1 -> -2760.9572537061918\n",
      "2017-07-27 14:25:16,917 - INFO - pswalker.plans - Using model Model(linear) to determine next step.\n",
      "2017-07-27 14:25:16,918 - INFO - pswalker.plans - Adjusting motor MIRR:TST:test_m1h to position 1459.8822006643502\n",
      "2017-07-27 14:25:17,029 - INFO - pswalker.plans - Averaged data yielded TST:test_p3h_detector_stats2_centroid_x is at -240.99482338161823\n",
      "2017-07-27 14:25:17,031 - INFO - pswalker.plans - Walking motor, error after step #2 -> 450.99482338161823\n",
      "2017-07-27 14:25:17,032 - INFO - pswalker.plans - Using model Model(linear) to determine next step.\n",
      "2017-07-27 14:25:17,033 - INFO - pswalker.plans - Adjusting motor MIRR:TST:test_m1h to position 1256.2078617430848\n",
      "2017-07-27 14:25:17,145 - INFO - pswalker.plans - Averaged data yielded TST:test_p3h_detector_stats2_centroid_x is at 209.54191786783574\n",
      "2017-07-27 14:25:17,147 - INFO - pswalker.plans - Succesfully walked to value 209.54191786783574 (target=210) after 3 steps.\n",
      "2017-07-27 14:25:17,148 - INFO - pswalker.iterwalk - Found equation of (-2.214383665701603, 2991.529939384019) between linear fit of MIRR:TST:test_m1h to TST:test_p3h\n",
      "2017-07-27 14:25:17,370 - INFO - pswalker.plans - Averaged data yielded TST:test_dg3_detector_stats2_centroid_x is at -57199.372587284495\n",
      "2017-07-27 14:25:17,371 - INFO - pswalker.callbacks - Unable to yield estimate from model Model(linear)\n",
      "2017-07-27 14:25:17,372 - INFO - pswalker.plans - Walking motor, error after step #0 -> 57469.372587284495\n",
      "2017-07-27 14:25:17,373 - INFO - pswalker.plans - No model yielded accurate prediction, using naive plan\n",
      "2017-07-27 14:25:17,492 - INFO - pswalker.plans - Averaged data yielded TST:test_dg3_detector_stats2_centroid_x is at -56739.354763555544\n",
      "2017-07-27 14:25:17,493 - INFO - pswalker.plans - Walking motor, error after step #1 -> 57009.354763555544\n",
      "2017-07-27 14:25:17,494 - INFO - pswalker.plans - Using model Model(linear) to determine next step.\n",
      "2017-07-27 14:25:17,495 - INFO - pswalker.plans - Adjusting motor MIRR:TST:test_m2h to position 1249.287180307989\n",
      "2017-07-27 14:25:17,613 - INFO - pswalker.plans - Averaged data yielded TST:test_dg3_detector_stats2_centroid_x is at 276.8007738565757\n",
      "2017-07-27 14:25:17,615 - INFO - pswalker.plans - Walking motor, error after step #2 -> -6.800773856575688\n",
      "2017-07-27 14:25:17,617 - INFO - pswalker.plans - Using model Model(linear) to determine next step.\n",
      "2017-07-27 14:25:17,619 - INFO - pswalker.plans - Adjusting motor MIRR:TST:test_m2h to position 1249.1393654619105\n",
      "2017-07-27 14:25:17,736 - INFO - pswalker.plans - Averaged data yielded TST:test_dg3_detector_stats2_centroid_x is at 269.17020085082646\n",
      "2017-07-27 14:25:17,738 - INFO - pswalker.plans - Succesfully walked to value 269.17020085082646 (target=270.0) after 3 steps.\n",
      "2017-07-27 14:25:17,739 - INFO - pswalker.iterwalk - Found equation of (46.006914299188516, -57199.46257813448) between linear fit of MIRR:TST:test_m2h to TST:test_dg3\n",
      "2017-07-27 14:25:17,974 - INFO - pswalker.plans - Averaged data yielded TST:test_p3h_detector_stats2_centroid_x is at 592.7590223911785\n",
      "2017-07-27 14:25:17,976 - INFO - pswalker.callbacks - Unable to yield estimate from model Model(linear)\n",
      "2017-07-27 14:25:17,977 - INFO - pswalker.plans - Walking motor, error after step #0 -> -382.7590223911785\n",
      "2017-07-27 14:25:17,978 - INFO - pswalker.plans - No model yielded accurate prediction, using naive plan\n",
      "2017-07-27 14:25:17,979 - INFO - pswalker.plans - Using gradient of -2.214383665701603 for naive step...\n",
      "2017-07-27 14:25:18,000 - INFO - pswalker.plans - ['TST:test_p3h_detector_stats2_centroid_x', 'MIRR:TST:test_m1h_pitch']\n",
      "2017-07-27 14:25:18,001 - INFO - pswalker.plans - {'TST:test_p3h_detector_stats2_centroid_x': 591.98683635051918, 'MIRR:TST:test_m1h_pitch': 1256.2078617430848}\n",
      "2017-07-27 14:25:18,122 - INFO - pswalker.plans - Averaged data yielded TST:test_p3h_detector_stats2_centroid_x is at 208.64366410156524\n",
      "2017-07-27 14:25:18,124 - INFO - pswalker.plans - Succesfully walked to value 208.64366410156524 (target=210) after 1 steps.\n",
      "2017-07-27 14:25:18,125 - INFO - pswalker.iterwalk - Found equation of (-2.2244845534002997, 3386.78791367836) between linear fit of MIRR:TST:test_m1h to TST:test_p3h\n",
      "2017-07-27 14:25:18,367 - INFO - pswalker.plans - Averaged data yielded TST:test_dg3_detector_stats2_centroid_x is at -7994.284595474509\n",
      "2017-07-27 14:25:18,368 - INFO - pswalker.callbacks - Unable to yield estimate from model Model(linear)\n",
      "2017-07-27 14:25:18,370 - INFO - pswalker.plans - Walking motor, error after step #0 -> 8264.28459547451\n",
      "2017-07-27 14:25:18,371 - INFO - pswalker.plans - No model yielded accurate prediction, using naive plan\n",
      "2017-07-27 14:25:18,372 - INFO - pswalker.plans - Using gradient of 46.006914299188516 for naive step...\n",
      "2017-07-27 14:25:18,395 - INFO - pswalker.plans - ['TST:test_dg3_detector_stats2_centroid_x', 'MIRR:TST:test_m2h_pitch']\n",
      "2017-07-27 14:25:18,397 - INFO - pswalker.plans - {'TST:test_dg3_detector_stats2_centroid_x': -7995.1337451895397, 'MIRR:TST:test_m2h_pitch': 1249.1393654619105}\n",
      "2017-07-27 14:25:18,521 - INFO - pswalker.plans - Averaged data yielded TST:test_dg3_detector_stats2_centroid_x is at 269.1459253054609\n",
      "2017-07-27 14:25:18,523 - INFO - pswalker.plans - Succesfully walked to value 269.1459253054609 (target=270.0000000000009) after 1 steps.\n",
      "2017-07-27 14:25:18,524 - INFO - pswalker.iterwalk - Found equation of (45.99979684384254, -65454.86621122629) between linear fit of MIRR:TST:test_m2h to TST:test_dg3\n",
      "2017-07-27 14:25:18,772 - INFO - pswalker.plans - Averaged data yielded TST:test_p3h_detector_stats2_centroid_x is at 265.3045450798597\n",
      "2017-07-27 14:25:18,773 - INFO - pswalker.callbacks - Unable to yield estimate from model Model(linear)\n",
      "2017-07-27 14:25:18,775 - INFO - pswalker.plans - Walking motor, error after step #0 -> -55.30454507985968\n",
      "2017-07-27 14:25:18,776 - INFO - pswalker.plans - No model yielded accurate prediction, using naive plan\n",
      "2017-07-27 14:25:18,777 - INFO - pswalker.plans - Using gradient of -2.2244845534002997 for naive step...\n",
      "2017-07-27 14:25:18,806 - INFO - pswalker.plans - ['TST:test_p3h_detector_stats2_centroid_x', 'MIRR:TST:test_m1h_pitch']\n",
      "2017-07-27 14:25:18,807 - INFO - pswalker.plans - {'TST:test_p3h_detector_stats2_centroid_x': 264.08562738687533, 'MIRR:TST:test_m1h_pitch': 1428.7104150571652}\n",
      "2017-07-27 14:25:18,935 - INFO - pswalker.plans - Averaged data yielded TST:test_p3h_detector_stats2_centroid_x is at 211.7210097695792\n",
      "2017-07-27 14:25:18,937 - INFO - pswalker.plans - Succesfully walked to value 211.7210097695792 (target=210) after 1 steps.\n",
      "2017-07-27 14:25:18,938 - INFO - pswalker.iterwalk - Found equation of (-2.1787676415664397, 3377.5231077288768) between linear fit of MIRR:TST:test_m1h to TST:test_p3h\n",
      "2017-07-27 14:25:19,192 - INFO - pswalker.plans - Averaged data yielded TST:test_dg3_detector_stats2_centroid_x is at -894.9588358576942\n",
      "2017-07-27 14:25:19,194 - INFO - pswalker.callbacks - Unable to yield estimate from model Model(linear)\n",
      "2017-07-27 14:25:19,195 - INFO - pswalker.plans - Walking motor, error after step #0 -> 1164.9588358576943\n",
      "2017-07-27 14:25:19,196 - INFO - pswalker.plans - No model yielded accurate prediction, using naive plan\n",
      "2017-07-27 14:25:19,197 - INFO - pswalker.plans - Using gradient of 45.99979684384254 for naive step...\n",
      "2017-07-27 14:25:19,227 - INFO - pswalker.plans - ['TST:test_dg3_detector_stats2_centroid_x', 'MIRR:TST:test_m2h_pitch']\n",
      "2017-07-27 14:25:19,228 - INFO - pswalker.plans - {'TST:test_dg3_detector_stats2_centroid_x': -896.83822777579951, 'MIRR:TST:test_m2h_pitch': 1428.7891826924333}\n"
     ]
    },
    {
     "name": "stderr",
     "output_type": "stream",
     "text": [
      "2017-07-27 14:25:19,359 - INFO - pswalker.plans - Averaged data yielded TST:test_dg3_detector_stats2_centroid_x is at 271.2512691471805\n",
      "2017-07-27 14:25:19,361 - INFO - pswalker.plans - Succesfully walked to value 271.2512691471805 (target=270.0) after 1 steps.\n",
      "2017-07-27 14:25:19,362 - INFO - pswalker.iterwalk - Found equation of (46.012079869041486, -66637.46052188349) between linear fit of MIRR:TST:test_m2h to TST:test_dg3\n",
      "2017-07-27 14:25:19,626 - INFO - pswalker.plans - Averaged data yielded TST:test_p3h_detector_stats2_centroid_x is at 219.00087771695388\n",
      "2017-07-27 14:25:19,627 - INFO - pswalker.callbacks - Unable to yield estimate from model Model(linear)\n",
      "2017-07-27 14:25:19,629 - INFO - pswalker.plans - Walking motor, error after step #0 -> -9.00087771695388\n",
      "2017-07-27 14:25:19,630 - INFO - pswalker.plans - No model yielded accurate prediction, using naive plan\n",
      "2017-07-27 14:25:19,631 - INFO - pswalker.plans - Using gradient of -2.1787676415664397 for naive step...\n",
      "2017-07-27 14:25:19,664 - INFO - pswalker.plans - ['TST:test_p3h_detector_stats2_centroid_x', 'MIRR:TST:test_m1h_pitch']\n",
      "2017-07-27 14:25:19,665 - INFO - pswalker.plans - {'TST:test_p3h_detector_stats2_centroid_x': 219.23862770175168, 'MIRR:TST:test_m1h_pitch': 1453.0241947614122}\n",
      "2017-07-27 14:25:19,800 - INFO - pswalker.plans - Averaged data yielded TST:test_p3h_detector_stats2_centroid_x is at 208.44780162836747\n",
      "2017-07-27 14:25:19,801 - INFO - pswalker.plans - Succesfully walked to value 208.44780162836747 (target=210) after 1 steps.\n",
      "2017-07-27 14:25:19,803 - INFO - pswalker.iterwalk - Found equation of (-2.516791718234396, 3876.0790124790688) between linear fit of MIRR:TST:test_m1h to TST:test_p3h\n",
      "2017-07-27 14:25:20,071 - INFO - pswalker.plans - Averaged data yielded TST:test_dg3_detector_stats2_centroid_x is at 68.17053167236202\n",
      "2017-07-27 14:25:20,072 - INFO - pswalker.callbacks - Unable to yield estimate from model Model(linear)\n",
      "2017-07-27 14:25:20,074 - INFO - pswalker.plans - Walking motor, error after step #0 -> 201.82946832763798\n",
      "2017-07-27 14:25:20,075 - INFO - pswalker.plans - No model yielded accurate prediction, using naive plan\n",
      "2017-07-27 14:25:20,076 - INFO - pswalker.plans - Using gradient of 46.012079869041486 for naive step...\n",
      "2017-07-27 14:25:20,115 - INFO - pswalker.plans - ['TST:test_dg3_detector_stats2_centroid_x', 'MIRR:TST:test_m2h_pitch']\n",
      "2017-07-27 14:25:20,116 - INFO - pswalker.plans - {'TST:test_dg3_detector_stats2_centroid_x': 66.896423100163801, 'MIRR:TST:test_m2h_pitch': 1454.1553431504224}\n",
      "2017-07-27 14:25:20,255 - INFO - pswalker.plans - Averaged data yielded TST:test_dg3_detector_stats2_centroid_x is at 271.0081272208394\n",
      "2017-07-27 14:25:20,257 - INFO - pswalker.plans - Succesfully walked to value 271.0081272208394 (target=270.0) after 1 steps.\n",
      "2017-07-27 14:25:20,258 - INFO - pswalker.iterwalk - Found equation of (46.096144550571694, -66963.4214194618) between linear fit of MIRR:TST:test_m2h to TST:test_dg3\n",
      "2017-07-27 14:25:20,497 - INFO - pswalker.iterwalk - Finished in 3.93s after 8 mirror walks, 9 yag cycles, and 0 recoveries\n",
      "2017-07-27 14:25:20,499 - INFO - pswalker.iterwalk - Aligned to [210.38400878481835, 271.00812722083941]\n",
      "2017-07-27 14:25:20,501 - INFO - pswalker.iterwalk - Goals were [210, 270]\n",
      "2017-07-27 14:25:20,503 - INFO - pswalker.iterwalk - Deltas are [0.38400878481834866, 1.0081272208394125]\n"
     ]
    },
    {
     "data": {
      "text/plain": [
       "['38997326-2393-43c7-97b7-f7c5cfdcec66']"
      ]
     },
     "execution_count": 6,
     "metadata": {},
     "output_type": "execute_result"
    }
   ],
   "source": [
    "RE(plan)"
   ]
  },
  {
   "cell_type": "code",
   "execution_count": 7,
   "metadata": {},
   "outputs": [
    {
     "name": "stdout",
     "output_type": "stream",
     "text": [
      "\n",
      "Skywalker successfuly aligned MIRR:TST:test_m1h, MIRR:TST:test_m2h to 210, 270\n",
      "on TST:test_p3h, TST:test_dg3 in 0.0 seconds! The entire alignment moved the\n",
      "mirrors 12 times, cycling between YAGs 9 times. The user requested that the\n",
      "mirrors hit their targets within  pixels, averaging over 1 consecutive images\n",
      "after each mirror motion. The resulting locations of mirrors and centroid\n",
      "measurements can be seen in the table below.\n",
      "\n",
      "+-----------------------------------------+---------------------+\n",
      "|                                   Field | Last Measured Value |\n",
      "+-----------------------------------------+---------------------+\n",
      "| TST:test_p3h_detector_stats2_centroid_x |           210.38401 |\n",
      "|                 MIRR:TST:test_m1h_pitch |          1457.26449 |\n",
      "| TST:test_dg3_detector_stats2_centroid_x |           272.61890 |\n",
      "|                 MIRR:TST:test_m2h_pitch |          1458.56948 |\n",
      "+-----------------------------------------+---------------------+\n"
     ]
    },
    {
     "data": {
      "text/plain": [
       "'\\nSkywalker successfuly aligned MIRR:TST:test_m1h, MIRR:TST:test_m2h to 210, 270\\non TST:test_p3h, TST:test_dg3 in 0.0 seconds! The entire alignment moved the\\nmirrors 12 times, cycling between YAGs 9 times. The user requested that the\\nmirrors hit their targets within  pixels, averaging over 1 consecutive images\\nafter each mirror motion. The resulting locations of mirrors and centroid\\nmeasurements can be seen in the table below.\\n\\n+-----------------------------------------+---------------------+\\n|                                   Field | Last Measured Value |\\n+-----------------------------------------+---------------------+\\n| TST:test_p3h_detector_stats2_centroid_x |           210.38401 |\\n|                 MIRR:TST:test_m1h_pitch |          1457.26449 |\\n| TST:test_dg3_detector_stats2_centroid_x |           272.61890 |\\n|                 MIRR:TST:test_m2h_pitch |          1458.56948 |\\n+-----------------------------------------+---------------------+'"
      ]
     },
     "execution_count": 7,
     "metadata": {},
     "output_type": "execute_result"
    }
   ],
   "source": [
    "#Print Run Statistics\n",
    "watcher.report()"
   ]
  },
  {
   "cell_type": "code",
   "execution_count": null,
   "metadata": {
    "collapsed": true
   },
   "outputs": [],
   "source": []
  }
 ],
 "metadata": {
  "kernelspec": {
   "display_name": "Python 3",
   "language": "python",
   "name": "python3"
  },
  "language_info": {
   "codemirror_mode": {
    "name": "ipython",
    "version": 3
   },
   "file_extension": ".py",
   "mimetype": "text/x-python",
   "name": "python",
   "nbconvert_exporter": "python",
   "pygments_lexer": "ipython3",
   "version": "3.6.1"
  }
 },
 "nbformat": 4,
 "nbformat_minor": 2
}
