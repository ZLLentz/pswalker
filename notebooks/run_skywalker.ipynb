{
 "cells": [
  {
   "cell_type": "markdown",
   "metadata": {},
   "source": [
    "# Skywalker algorithm against the lcls mirror systems"
   ]
  },
  {
   "cell_type": "code",
   "execution_count": 1,
   "metadata": {
    "collapsed": true
   },
   "outputs": [],
   "source": [
    "SIMULATION = True\n",
    "ALIGNMENT = 'HOMS'\n",
    "#ALIGNMENT = 'MEC'\n",
    "#ALIGNMENT = 'MFX'\n",
    "#ALIGNMENT = 'XCS'\n",
    "\n",
    "alignment_goals = dict(HOMS=[210, 270],\n",
    "                       MEC=[270],\n",
    "                       MFX=[270],\n",
    "                       XCS=[270, 270])\n",
    "first_steps = 10 # Naive first step for the parameters search\n",
    "tolerances = 2.0 # Tolerance of each target in Pixels\n",
    "average = 1 # Number of shots to average over\n",
    "log_level = \"INFO\"\n",
    "\n",
    "# PARAMETERS FOR SIMULATION ONLY\n",
    "centroid_noise = 5.0 # Noise level of centroid measurements\n",
    "infinite_yag = False # Assume all yags are infinitely large"
   ]
  },
  {
   "cell_type": "code",
   "execution_count": 2,
   "metadata": {
    "collapsed": true
   },
   "outputs": [],
   "source": [
    "############\n",
    "# Standard #\n",
    "############\n",
    "import os\n",
    "import sys\n",
    "import logging\n",
    "import argparse\n",
    "\n",
    "###############\n",
    "# Third Party #\n",
    "###############\n",
    "from bluesky import RunEngine\n",
    "from bluesky.tests.utils import MsgCollector\n",
    "from bluesky.plans import run_wrapper\n",
    "from pcdsdevices.sim import pim, source, mirror"
   ]
  },
  {
   "cell_type": "code",
   "execution_count": 3,
   "metadata": {
    "collapsed": true
   },
   "outputs": [],
   "source": [
    "\"\"\"\n",
    "Parameters\n",
    "----------\n",
    "\"\"\"\n",
    "#Configure logger\n",
    "log_level = getattr(logging, log_level, None)\n",
    "\n",
    "#Report invalid logging level\n",
    "if not isinstance(log_level, int):\n",
    "    raise ValueError(\"Invalid log level : {}\".format(log_level))\n",
    "\n",
    "#Create basic configuration\n",
    "logging.basicConfig(level=log_level, format='%(name)s - %(message)s')\n",
    "\n",
    "from pswalker.examples  import patch_pims\n",
    "from pswalker.skywalker import skywalker\n",
    "from pswalker.plans import walk_to_pixel\n",
    "from pswalker.watcher import Watcher\n",
    "#Instantiate simulation\n",
    "if not SIMULATION:\n",
    "    print(\"*\"*80)\n",
    "    print(\"* WARNING: Running on real devices in Production...\")\n",
    "    print(\"*\"*80)\n",
    "    input(\"Press any key to continue...\")\n",
    "    system = homs_system()\n",
    "    m1h = system['m1h']\n",
    "    m1h2 = system['m1h2']\n",
    "    m2h = system['m2h']\n",
    "    m2h2 = system['m2h2']\n",
    "    xrtm2 = system['xrtm2']\n",
    "    xrtm22 = system['xrtm22']\n",
    "    hx2 = system['hx2']\n",
    "    dg3 = system['dg3']\n",
    "    mfxdg1 = system['mfxdg1']\n",
    "    mecy1 = system['mecy1']\n",
    "    m1 = m1h\n",
    "    m2 = m2h\n",
    "    y1 = hx2\n",
    "    y2 = dg3\n",
    "else:\n",
    "    s = source.Undulator('test_undulator')\n",
    "    m1 = mirror.OffsetMirror('test_m1h', 'test_m1h_xy',\n",
    "                              z=90.510, alpha=0.0014)\n",
    "    m2 = mirror.OffsetMirror('test_m2h', 'test_m2h_xy',\n",
    "                              x=0.0317324, z=101.843, alpha=0.0014)\n",
    "    xrtm2 = mirror.OffsetMirror('test_xrtm2', 'test_xrtm2_xy',\n",
    "                                 x=0.0317324, z=200, alpha=0.0014)\n",
    "    y1 = pim.PIM('test_p3h', x=0.0317324, z=103.660,\n",
    "             zero_outside_yag= not infinite_yag)\n",
    "    y2 = pim.PIM('test_dg3', x=0.0317324, z=375.000,\n",
    "             zero_outside_yag= not infinite_yag)\n",
    "    mecy1 = pim.PIM('test_mecy1', x=0.0317324, z=350,\n",
    "             zero_outside_yag= not infinite_yag)\n",
    "    mfxdg1 = mecy1\n",
    "    patch_pims([y1, y2], mirrors=[m1, m2], source=s)\n",
    "    patch_pims([mecy1], mirrors=[xrtm2], source=s)\n",
    "\n",
    "    #Add noise\n",
    "    y1.centroid_noise = centroid_noise\n",
    "    y2.centroid_noise = centroid_noise\n",
    "    mecy1.centroid_noise = centroid_noise\n",
    "\n",
    "alignment_yags = dict(HOMS=[y1, y2],\n",
    "                      MEC=[mecy1],\n",
    "                      MFX=[mfxdg1],\n",
    "                      XCS=['pbty', 'xcssb1y'])\n",
    "alignment_mots = dict(HOMS=[m1, m2],\n",
    "                      MEC=[xrtm2],\n",
    "                      MFX=[xrtm2],\n",
    "                      XCS=['xrtm1', 'xrtm3'])"
   ]
  },
  {
   "cell_type": "code",
   "execution_count": 4,
   "metadata": {
    "collapsed": true
   },
   "outputs": [],
   "source": [
    "#Create Skywalker plan\n",
    "yags = alignment_yags[ALIGNMENT]\n",
    "mots = alignment_mots[ALIGNMENT]\n",
    "goals = alignment_goals[ALIGNMENT]\n",
    "if SIMULATION:\n",
    "    det_rbv = 'detector_stats2_centroid_x'\n",
    "else:\n",
    "    det_rbv = 'detector_stats2_centroid_y'\n",
    "mot_rbv = 'pitch'\n",
    "plan = skywalker(yags, mots, det_rbv, mot_rbv,\n",
    "        goals, first_steps=first_steps, tolerances=tolerances,\n",
    "        averages=average, timeout=10)  "
   ]
  },
  {
   "cell_type": "code",
   "execution_count": 5,
   "metadata": {},
   "outputs": [
    {
     "data": {
      "text/plain": [
       "0"
      ]
     },
     "execution_count": 5,
     "metadata": {},
     "output_type": "execute_result"
    }
   ],
   "source": [
    "#Create RunEngine\n",
    "RE = RunEngine({})\n",
    "RE.record_interruptions = True\n",
    "#Subscribe a Watcher instance\n",
    "watcher = Watcher()\n",
    "RE.msg_hook = watcher\n",
    "RE.subscribe('all',  watcher)\n"
   ]
  },
  {
   "cell_type": "code",
   "execution_count": 6,
   "metadata": {},
   "outputs": [
    {
     "name": "stderr",
     "output_type": "stream",
     "text": [
      "pswalker.iterwalk - Starting walk from 2992.092302008178 to 270 on TST:test_p3h using MIRR:TST:test_m1h\n",
      "pswalker.plans - Initial error before fitwalk is -2720\n",
      "pswalker.plans - No model yielded accurate prediction, using naive plan\n",
      "pcdsdevices.epics.mirror - Waiting for MIRR:TST:test_m1h_pitch to finish move ...\n",
      "pswalker.plans - fitwalk is reporting an error -2700 of after step #1\n",
      "pswalker.plans - Using model Model(linear) to determine next step.\n",
      "pswalker.plans - Adjusting motor MIRR:TST:test_m1h to position 1321.3\n",
      "pcdsdevices.epics.mirror - Waiting for MIRR:TST:test_m1h_pitch to finish move ...\n",
      "pswalker.plans - fitwalk is reporting an error 203 of after step #2\n",
      "pswalker.plans - Using model Model(linear) to determine next step.\n",
      "pswalker.plans - Adjusting motor MIRR:TST:test_m1h to position 1229.2\n",
      "pcdsdevices.epics.mirror - Waiting for MIRR:TST:test_m1h_pitch to finish move ...\n",
      "pswalker.plans - Succesfully walked to value 270 (target=270) after 3 steps.\n",
      "pswalker.iterwalk - Starting walk from -55903.7136227415 to 210.0 on TST:test_dg3 using MIRR:TST:test_m2h\n",
      "pswalker.plans - Initial error before fitwalk is 56114\n",
      "pswalker.plans - No model yielded accurate prediction, using naive plan\n",
      "pcdsdevices.epics.mirror - Waiting for MIRR:TST:test_m2h_pitch to finish move ...\n",
      "pswalker.plans - fitwalk is reporting an error 55651 of after step #1\n",
      "pswalker.plans - Using model Model(linear) to determine next step.\n",
      "pswalker.plans - Adjusting motor MIRR:TST:test_m2h to position 1213.4\n",
      "pcdsdevices.epics.mirror - Waiting for MIRR:TST:test_m2h_pitch to finish move ...\n",
      "pswalker.plans - fitwalk is reporting an error 290 of after step #2\n",
      "pswalker.plans - Using model Model(linear) to determine next step.\n",
      "pswalker.plans - Adjusting motor MIRR:TST:test_m2h to position 1219.8\n",
      "pcdsdevices.epics.mirror - Waiting for MIRR:TST:test_m2h_pitch to finish move ...\n",
      "pswalker.plans - Succesfully walked to value 210 (target=210.0) after 3 steps.\n",
      "pswalker.iterwalk - Starting walk from 644.1625139466493 to 270 on TST:test_p3h using MIRR:TST:test_m1h\n",
      "pswalker.plans - Initial error before fitwalk is -372\n",
      "pswalker.plans - No model yielded accurate prediction, using naive plan\n",
      "pcdsdevices.epics.mirror - Waiting for MIRR:TST:test_m1h_pitch to finish move ...\n",
      "pswalker.plans - Succesfully walked to value 270 (target=270) after 1 steps.\n",
      "pswalker.iterwalk - Starting walk from -7870.804024190752 to 210.0 on TST:test_dg3 using MIRR:TST:test_m2h\n",
      "pswalker.plans - Initial error before fitwalk is 8081\n",
      "pswalker.plans - No model yielded accurate prediction, using naive plan\n",
      "pcdsdevices.epics.mirror - Waiting for MIRR:TST:test_m2h_pitch to finish move ...\n",
      "pswalker.plans - Succesfully walked to value 210 (target=210.0) after 1 steps.\n",
      "pswalker.iterwalk - Starting walk from 323.8145352487051 to 270 on TST:test_p3h using MIRR:TST:test_m1h\n",
      "pswalker.plans - Initial error before fitwalk is -52\n",
      "pswalker.plans - No model yielded accurate prediction, using naive plan\n",
      "pcdsdevices.epics.mirror - Waiting for MIRR:TST:test_m1h_pitch to finish move ...\n",
      "pswalker.plans - Succesfully walked to value 270 (target=270) after 1 steps.\n",
      "pswalker.iterwalk - Starting walk from -936.4070136340532 to 210.0000000000001 on TST:test_dg3 using MIRR:TST:test_m2h\n",
      "pswalker.plans - Initial error before fitwalk is 1147\n",
      "pswalker.plans - No model yielded accurate prediction, using naive plan\n",
      "pcdsdevices.epics.mirror - Waiting for MIRR:TST:test_m2h_pitch to finish move ...\n",
      "pswalker.plans - Succesfully walked to value 209 (target=210.0000000000001) after 1 steps.\n",
      "pswalker.iterwalk - Starting walk from 278.0349964863092 to 270 on TST:test_p3h using MIRR:TST:test_m1h\n",
      "pswalker.plans - Initial error before fitwalk is -7\n",
      "pswalker.plans - No model yielded accurate prediction, using naive plan\n",
      "pcdsdevices.epics.mirror - Waiting for MIRR:TST:test_m1h_pitch to finish move ...\n",
      "pswalker.plans - Succesfully walked to value 268 (target=270) after 1 steps.\n",
      "pswalker.iterwalk - Starting walk from 42.01184210251335 to 210.0 on TST:test_dg3 using MIRR:TST:test_m2h\n",
      "pswalker.plans - Initial error before fitwalk is 166\n",
      "pswalker.plans - No model yielded accurate prediction, using naive plan\n",
      "pcdsdevices.epics.mirror - Waiting for MIRR:TST:test_m2h_pitch to finish move ...\n",
      "pswalker.plans - fitwalk is reporting an error -3 of after step #1\n",
      "pswalker.plans - Using model Model(linear) to determine next step.\n",
      "pswalker.plans - Adjusting motor MIRR:TST:test_m2h to position 1424.0\n",
      "pcdsdevices.epics.mirror - Waiting for MIRR:TST:test_m2h_pitch to finish move ...\n",
      "pswalker.plans - fitwalk is reporting an error 2 of after step #2\n",
      "pswalker.plans - Using model Model(linear) to determine next step.\n",
      "pswalker.plans - Adjusting motor MIRR:TST:test_m2h to position 1424.0\n",
      "pcdsdevices.epics.mirror - Waiting for MIRR:TST:test_m2h_pitch to finish move ...\n",
      "pswalker.plans - Succesfully walked to value 209 (target=210.0) after 3 steps.\n",
      "pswalker.iterwalk - Finished in 4.16s after 8 mirror walks, 9 yag cycles, and 0 recoveries\n",
      "pswalker.iterwalk - Aligned to [269.22292490989526, 209.28848808375136]\n",
      "pswalker.iterwalk - Goals were [270, 210]\n",
      "pswalker.iterwalk - Deltas are [-0.77707509010474496, -0.71151191624863941]\n"
     ]
    },
    {
     "data": {
      "text/plain": [
       "['1ed26407-01db-4fc7-8374-1686b85ed098']"
      ]
     },
     "execution_count": 6,
     "metadata": {},
     "output_type": "execute_result"
    }
   ],
   "source": [
    "RE(plan)"
   ]
  },
  {
   "cell_type": "code",
   "execution_count": 7,
   "metadata": {},
   "outputs": [
    {
     "name": "stdout",
     "output_type": "stream",
     "text": [
      "\n",
      "Skywalker successfuly aligned MIRR:TST:test_m1h, MIRR:TST:test_m2h to 210, 270\n",
      "on TST:test_p3h, TST:test_dg3 in 0.0 seconds! The entire alignment moved the\n",
      "mirrors 14 times, cycling between YAGs 9 times. The user requested that the\n",
      "mirrors hit their targets within 2.0 pixels, averaging over 1 consecutive\n",
      "images after each mirror motion. The resulting locations of mirrors and\n",
      "centroid measurements can be seen in the table below.\n",
      "\n",
      "+-----------------------------------------+---------------------+\n",
      "|                                   Field | Last Measured Value |\n",
      "+-----------------------------------------+---------------------+\n",
      "| TST:test_p3h_detector_stats2_centroid_x |           269.22292 |\n",
      "|                 MIRR:TST:test_m1h_pitch |          1425.33470 |\n",
      "| TST:test_dg3_detector_stats2_centroid_x |           208.22305 |\n",
      "|                 MIRR:TST:test_m2h_pitch |          1423.97923 |\n",
      "+-----------------------------------------+---------------------+\n"
     ]
    },
    {
     "data": {
      "text/plain": [
       "'\\nSkywalker successfuly aligned MIRR:TST:test_m1h, MIRR:TST:test_m2h to 210, 270\\non TST:test_p3h, TST:test_dg3 in 0.0 seconds! The entire alignment moved the\\nmirrors 14 times, cycling between YAGs 9 times. The user requested that the\\nmirrors hit their targets within 2.0 pixels, averaging over 1 consecutive\\nimages after each mirror motion. The resulting locations of mirrors and\\ncentroid measurements can be seen in the table below.\\n\\n+-----------------------------------------+---------------------+\\n|                                   Field | Last Measured Value |\\n+-----------------------------------------+---------------------+\\n| TST:test_p3h_detector_stats2_centroid_x |           269.22292 |\\n|                 MIRR:TST:test_m1h_pitch |          1425.33470 |\\n| TST:test_dg3_detector_stats2_centroid_x |           208.22305 |\\n|                 MIRR:TST:test_m2h_pitch |          1423.97923 |\\n+-----------------------------------------+---------------------+'"
      ]
     },
     "execution_count": 7,
     "metadata": {},
     "output_type": "execute_result"
    }
   ],
   "source": [
    "#Print Run Statistics\n",
    "watcher.report()"
   ]
  },
  {
   "cell_type": "code",
   "execution_count": null,
   "metadata": {
    "collapsed": true
   },
   "outputs": [],
   "source": []
  }
 ],
 "metadata": {
  "kernelspec": {
   "display_name": "Python 3",
   "language": "python",
   "name": "python3"
  },
  "language_info": {
   "codemirror_mode": {
    "name": "ipython",
    "version": 3
   },
   "file_extension": ".py",
   "mimetype": "text/x-python",
   "name": "python",
   "nbconvert_exporter": "python",
   "pygments_lexer": "ipython3",
   "version": "3.6.1"
  }
 },
 "nbformat": 4,
 "nbformat_minor": 2
}
