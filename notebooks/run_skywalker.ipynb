{
 "cells": [
  {
   "cell_type": "markdown",
   "metadata": {},
   "source": [
    "# Skywalker algorithm against the lcls mirror systems"
   ]
  },
  {
   "cell_type": "code",
   "execution_count": 1,
   "metadata": {
    "collapsed": true
   },
   "outputs": [],
   "source": [
    "SIMULATION = True\n",
    "ALIGNMENT = 'HOMS'\n",
    "#ALIGNMENT = 'MEC'\n",
    "#ALIGNMENT = 'MFX'\n",
    "#ALIGNMENT = 'XCS'\n",
    "\n",
    "alignment_goals = dict(HOMS=[210, 270],\n",
    "                       MEC=[270],\n",
    "                       MFX=[270],\n",
    "                       XCS=[270, 270])\n",
    "first_steps = 10 # Naive first step for the parameters search\n",
    "tolerances = 2.0 # Tolerance of each target in Pixels\n",
    "average = 1 # Number of shots to average over\n",
    "log_level = \"INFO\"\n",
    "\n",
    "# PARAMETERS FOR SIMULATION ONLY\n",
    "centroid_noise = 5.0 # Noise level of centroid measurements\n",
    "infinite_yag = False # Assume all yags are infinitely large"
   ]
  },
  {
   "cell_type": "code",
   "execution_count": 2,
   "metadata": {
    "collapsed": true
   },
   "outputs": [],
   "source": [
    "############\n",
    "# Standard #\n",
    "############\n",
    "import os\n",
    "import sys\n",
    "import logging\n",
    "import argparse\n",
    "\n",
    "###############\n",
    "# Third Party #\n",
    "###############\n",
    "from bluesky import RunEngine\n",
    "from bluesky.tests.utils import MsgCollector\n",
    "from bluesky.plans import run_wrapper\n",
    "from pcdsdevices.sim import pim, source, mirror"
   ]
  },
  {
   "cell_type": "code",
   "execution_count": 3,
   "metadata": {},
   "outputs": [
    {
     "name": "stderr",
     "output_type": "stream",
     "text": [
      "2017-07-27 15:19:21,269 - INFO - pswalker.examples - Patching 2 pim(s)\n",
      "2017-07-27 15:19:21,271 - INFO - pswalker.examples - Patching 1 pim(s)\n"
     ]
    }
   ],
   "source": [
    "\"\"\"\n",
    "Parameters\n",
    "----------\n",
    "\"\"\"\n",
    "#Configure logger\n",
    "log_level = getattr(logging, log_level, None)\n",
    "\n",
    "#Report invalid logging level\n",
    "if not isinstance(log_level, int):\n",
    "    raise ValueError(\"Invalid log level : {}\".format(log_level))\n",
    "\n",
    "#Create basic configuration\n",
    "logging.basicConfig(level=log_level,\n",
    "                format='%(asctime)s - %(levelname)s - %(name)s - %(message)s')\n",
    "\n",
    "from pswalker.examples  import patch_pims\n",
    "from pswalker.skywalker import skywalker\n",
    "from pswalker.plans import walk_to_pixel\n",
    "from pswalker.watcher import Watcher\n",
    "#Instantiate simulation\n",
    "if not SIMULATION:\n",
    "    print(\"*\"*80)\n",
    "    print(\"* WARNING: Running on real devices in Production...\")\n",
    "    print(\"*\"*80)\n",
    "    input(\"Press any key to continue...\")\n",
    "    system = homs_system()\n",
    "    m1h = system['m1h']\n",
    "    m1h2 = system['m1h2']\n",
    "    m2h = system['m2h']\n",
    "    m2h2 = system['m2h2']\n",
    "    xrtm2 = system['xrtm2']\n",
    "    xrtm22 = system['xrtm22']\n",
    "    hx2 = system['hx2']\n",
    "    dg3 = system['dg3']\n",
    "    mfxdg1 = system['mfxdg1']\n",
    "    mecy1 = system['mecy1']\n",
    "    m1 = m1h\n",
    "    m2 = m2h\n",
    "    y1 = hx2\n",
    "    y2 = dg3\n",
    "else:\n",
    "    s = source.Undulator('test_undulator')\n",
    "    m1 = mirror.OffsetMirror('test_m1h', z=90.510, alpha=0.0014)\n",
    "    m2 = mirror.OffsetMirror('test_m2h', x=0.0317324, z=101.843, alpha=0.0014)\n",
    "    xrtm2 = mirror.OffsetMirror('test_xrtm2', x=0.0317324, z=200, alpha=0.0014)\n",
    "    y1 = pim.PIM('test_p3h', x=0.0317324, z=103.660,\n",
    "             zero_outside_yag= not infinite_yag)\n",
    "    y2 = pim.PIM('test_dg3', x=0.0317324, z=375.000,\n",
    "             zero_outside_yag= not infinite_yag)\n",
    "    mecy1 = pim.PIM('test_mecy1', x=0.0317324, z=350,\n",
    "             zero_outside_yag= not infinite_yag)\n",
    "    mfxdg1 = mecy1\n",
    "    patch_pims([y1, y2], mirrors=[m1, m2], source=s)\n",
    "    patch_pims([mecy1], mirrors=[xrtm2], source=s)\n",
    "\n",
    "    #Add noise\n",
    "    y1.centroid_noise = centroid_noise\n",
    "    y2.centroid_noise = centroid_noise\n",
    "    mecy1.centroid_noise = centroid_noise\n",
    "\n",
    "alignment_yags = dict(HOMS=[y1, y2],\n",
    "                      MEC=[mecy1],\n",
    "                      MFX=[mfxdg1],\n",
    "                      XCS=['pbty', 'xcssb1y'])\n",
    "alignment_mots = dict(HOMS=[m1, m2],\n",
    "                      MEC=[xrtm2],\n",
    "                      MFX=[xrtm2],\n",
    "                      XCS=['xrtm1', 'xrtm3'])"
   ]
  },
  {
   "cell_type": "code",
   "execution_count": 4,
   "metadata": {
    "collapsed": true
   },
   "outputs": [],
   "source": [
    "#Create Skywalker plan\n",
    "yags = alignment_yags[ALIGNMENT]\n",
    "mots = alignment_mots[ALIGNMENT]\n",
    "goals = alignment_goals[ALIGNMENT]\n",
    "if SIMULATION:\n",
    "    det_rbv = 'detector_stats2_centroid_x'\n",
    "else:\n",
    "    det_rbv = 'detector_stats2_centroid_y'\n",
    "mot_rbv = 'pitch'\n",
    "plan = skywalker(yags, mots, det_rbv, mot_rbv,\n",
    "        goals, first_steps=first_steps, tolerances=tolerances,\n",
    "        averages=average, timeout=10)  "
   ]
  },
  {
   "cell_type": "code",
   "execution_count": 5,
   "metadata": {},
   "outputs": [
    {
     "data": {
      "text/plain": [
       "0"
      ]
     },
     "execution_count": 5,
     "metadata": {},
     "output_type": "execute_result"
    }
   ],
   "source": [
    "#Create RunEngine\n",
    "RE = RunEngine({})\n",
    "RE.record_interruptions = True\n",
    "#Subscribe a Watcher instance\n",
    "watcher = Watcher()\n",
    "RE.msg_hook = watcher\n",
    "RE.subscribe('all',  watcher)\n"
   ]
  },
  {
   "cell_type": "code",
   "execution_count": 6,
   "metadata": {},
   "outputs": [
    {
     "name": "stderr",
     "output_type": "stream",
     "text": [
      "2017-07-27 15:19:21,557 - INFO - pswalker.plans - Averaged data yielded TST:test_p3h_detector_stats2_centroid_x is at 2991.8140634994447\n",
      "2017-07-27 15:19:21,559 - INFO - pswalker.callbacks - Unable to yield estimate from model Model(linear)\n",
      "2017-07-27 15:19:21,560 - INFO - pswalker.plans - Walking motor, error after step #0 -> -2781.8140634994447\n",
      "2017-07-27 15:19:21,562 - INFO - pswalker.plans - No model yielded accurate prediction, using naive plan\n",
      "2017-07-27 15:19:21,680 - INFO - pswalker.plans - Averaged data yielded TST:test_p3h_detector_stats2_centroid_x is at 2969.9701682139307\n",
      "2017-07-27 15:19:21,682 - INFO - pswalker.plans - Walking motor, error after step #1 -> -2759.9701682139307\n",
      "2017-07-27 15:19:21,683 - INFO - pswalker.plans - Using model Model(linear) to determine next step.\n",
      "2017-07-27 15:19:21,684 - INFO - pswalker.plans - Adjusting motor MIRR:TST:test_m1h to position 1273.4986527288938\n",
      "2017-07-27 15:19:21,797 - INFO - pswalker.plans - Averaged data yielded TST:test_p3h_detector_stats2_centroid_x is at 172.37169590234353\n",
      "2017-07-27 15:19:21,798 - INFO - pswalker.plans - Walking motor, error after step #2 -> 37.62830409765647\n",
      "2017-07-27 15:19:21,799 - INFO - pswalker.plans - Using model Model(linear) to determine next step.\n",
      "2017-07-27 15:19:21,800 - INFO - pswalker.plans - Adjusting motor MIRR:TST:test_m1h to position 1256.5039580410782\n",
      "2017-07-27 15:19:21,914 - INFO - pswalker.plans - Averaged data yielded TST:test_p3h_detector_stats2_centroid_x is at 209.18646245037812\n",
      "2017-07-27 15:19:21,915 - INFO - pswalker.plans - Succesfully walked to value 209.18646245037812 (target=210) after 3 steps.\n",
      "2017-07-27 15:19:21,916 - INFO - pswalker.iterwalk - Found equation of (-2.2143702709768593, 2991.963714948872) between linear fit of MIRR:TST:test_m1h to TST:test_p3h\n",
      "2017-07-27 15:19:22,139 - INFO - pswalker.plans - Averaged data yielded TST:test_dg3_detector_stats2_centroid_x is at -57212.93957284279\n",
      "2017-07-27 15:19:22,141 - INFO - pswalker.callbacks - Unable to yield estimate from model Model(linear)\n",
      "2017-07-27 15:19:22,142 - INFO - pswalker.plans - Walking motor, error after step #0 -> 57482.93957284279\n",
      "2017-07-27 15:19:22,143 - INFO - pswalker.plans - No model yielded accurate prediction, using naive plan\n",
      "2017-07-27 15:19:22,262 - INFO - pswalker.plans - Averaged data yielded TST:test_dg3_detector_stats2_centroid_x is at -56751.070283784946\n",
      "2017-07-27 15:19:22,264 - INFO - pswalker.plans - Walking motor, error after step #1 -> 57021.070283784946\n",
      "2017-07-27 15:19:22,265 - INFO - pswalker.plans - Using model Model(linear) to determine next step.\n",
      "2017-07-27 15:19:22,266 - INFO - pswalker.plans - Adjusting motor MIRR:TST:test_m2h to position 1244.5729905922096\n",
      "2017-07-27 15:19:22,385 - INFO - pswalker.plans - Averaged data yielded TST:test_dg3_detector_stats2_centroid_x is at 43.314233979224255\n",
      "2017-07-27 15:19:22,386 - INFO - pswalker.plans - Walking motor, error after step #2 -> 226.68576602077576\n",
      "2017-07-27 15:19:22,388 - INFO - pswalker.plans - Using model Model(linear) to determine next step.\n",
      "2017-07-27 15:19:22,389 - INFO - pswalker.plans - Adjusting motor MIRR:TST:test_m2h to position 1249.5003464035508\n",
      "2017-07-27 15:19:22,508 - INFO - pswalker.plans - Averaged data yielded TST:test_dg3_detector_stats2_centroid_x is at 272.6481196573691\n",
      "2017-07-27 15:19:22,509 - INFO - pswalker.plans - Walking motor, error after step #3 -> -2.6481196573690795\n",
      "2017-07-27 15:19:22,510 - INFO - pswalker.plans - Using model Model(linear) to determine next step.\n",
      "2017-07-27 15:19:22,512 - INFO - pswalker.plans - Adjusting motor MIRR:TST:test_m2h to position 1249.4714518863334\n",
      "2017-07-27 15:19:22,632 - INFO - pswalker.plans - Averaged data yielded TST:test_dg3_detector_stats2_centroid_x is at 269.2287299887708\n",
      "2017-07-27 15:19:22,634 - INFO - pswalker.plans - Succesfully walked to value 269.2287299887708 (target=270.0) after 4 steps.\n",
      "2017-07-27 15:19:22,635 - INFO - pswalker.iterwalk - Found equation of (46.004926251263385, -57212.099756026124) between linear fit of MIRR:TST:test_m2h to TST:test_dg3\n",
      "2017-07-27 15:19:22,871 - INFO - pswalker.plans - Averaged data yielded TST:test_p3h_detector_stats2_centroid_x is at 591.3028862227286\n",
      "2017-07-27 15:19:22,873 - INFO - pswalker.callbacks - Unable to yield estimate from model Model(linear)\n",
      "2017-07-27 15:19:22,874 - INFO - pswalker.plans - Walking motor, error after step #0 -> -381.3028862227286\n",
      "2017-07-27 15:19:22,875 - INFO - pswalker.plans - No model yielded accurate prediction, using naive plan\n",
      "2017-07-27 15:19:22,876 - INFO - pswalker.plans - Using gradient of -2.2143702709768593 for naive step...\n",
      "2017-07-27 15:19:22,900 - INFO - pswalker.plans - ['TST:test_p3h_detector_stats2_centroid_x', 'MIRR:TST:test_m1h_pitch']\n",
      "2017-07-27 15:19:22,901 - INFO - pswalker.plans - {'TST:test_p3h_detector_stats2_centroid_x': 590.38223621442864, 'MIRR:TST:test_m1h_pitch': 1256.5039580410782}\n",
      "2017-07-27 15:19:23,024 - INFO - pswalker.plans - Averaged data yielded TST:test_p3h_detector_stats2_centroid_x is at 209.9782464256029\n",
      "2017-07-27 15:19:23,025 - INFO - pswalker.plans - Succesfully walked to value 209.9782464256029 (target=210) after 1 steps.\n",
      "2017-07-27 15:19:23,026 - INFO - pswalker.iterwalk - Found equation of (-2.2171766598430507, 3376.7338099876692) between linear fit of MIRR:TST:test_m1h to TST:test_p3h\n",
      "2017-07-27 15:19:23,268 - INFO - pswalker.plans - Averaged data yielded TST:test_dg3_detector_stats2_centroid_x is at -7959.122122057174\n",
      "2017-07-27 15:19:23,270 - INFO - pswalker.callbacks - Unable to yield estimate from model Model(linear)\n",
      "2017-07-27 15:19:23,271 - INFO - pswalker.plans - Walking motor, error after step #0 -> 8229.122122057175\n",
      "2017-07-27 15:19:23,272 - INFO - pswalker.plans - No model yielded accurate prediction, using naive plan\n",
      "2017-07-27 15:19:23,273 - INFO - pswalker.plans - Using gradient of 46.004926251263385 for naive step...\n",
      "2017-07-27 15:19:23,301 - INFO - pswalker.plans - ['TST:test_dg3_detector_stats2_centroid_x', 'MIRR:TST:test_m2h_pitch']\n",
      "2017-07-27 15:19:23,302 - INFO - pswalker.plans - {'TST:test_dg3_detector_stats2_centroid_x': -7960.5608528584016, 'MIRR:TST:test_m2h_pitch': 1249.4714518863334}\n",
      "2017-07-27 15:19:23,428 - INFO - pswalker.plans - Averaged data yielded TST:test_dg3_detector_stats2_centroid_x is at 270.0035616892154\n",
      "2017-07-27 15:19:23,429 - INFO - pswalker.plans - Succesfully walked to value 270.0035616892154 (target=270.0000000000009) after 1 steps.\n",
      "2017-07-27 15:19:23,430 - INFO - pswalker.iterwalk - Found equation of (46.000925248471304, -65436.684345779926) between linear fit of MIRR:TST:test_m2h to TST:test_dg3\n",
      "2017-07-27 15:19:23,682 - INFO - pswalker.plans - Averaged data yielded TST:test_p3h_detector_stats2_centroid_x is at 267.6654780244093\n",
      "2017-07-27 15:19:23,684 - INFO - pswalker.callbacks - Unable to yield estimate from model Model(linear)\n",
      "2017-07-27 15:19:23,685 - INFO - pswalker.plans - Walking motor, error after step #0 -> -57.66547802440931\n",
      "2017-07-27 15:19:23,686 - INFO - pswalker.plans - No model yielded accurate prediction, using naive plan\n",
      "2017-07-27 15:19:23,687 - INFO - pswalker.plans - Using gradient of -2.2171766598430507 for naive step...\n",
      "2017-07-27 15:19:23,716 - INFO - pswalker.plans - ['TST:test_p3h_detector_stats2_centroid_x', 'MIRR:TST:test_m1h_pitch']\n",
      "2017-07-27 15:19:23,717 - INFO - pswalker.plans - {'TST:test_p3h_detector_stats2_centroid_x': 266.21129744298736, 'MIRR:TST:test_m1h_pitch': 1428.2829243684328}\n",
      "2017-07-27 15:19:23,850 - INFO - pswalker.plans - Averaged data yielded TST:test_p3h_detector_stats2_centroid_x is at 209.61106113318496\n",
      "2017-07-27 15:19:23,851 - INFO - pswalker.plans - Succesfully walked to value 209.61106113318496 (target=210) after 1 steps.\n",
      "2017-07-27 15:19:23,852 - INFO - pswalker.iterwalk - Found equation of (-2.2611968819750774, 3496.5672828938436) between linear fit of MIRR:TST:test_m1h to TST:test_p3h\n",
      "2017-07-27 15:19:24,108 - INFO - pswalker.plans - Averaged data yielded TST:test_dg3_detector_stats2_centroid_x is at -942.4474210096275\n",
      "2017-07-27 15:19:24,109 - INFO - pswalker.callbacks - Unable to yield estimate from model Model(linear)\n",
      "2017-07-27 15:19:24,110 - INFO - pswalker.plans - Walking motor, error after step #0 -> 1212.4474210096275\n"
     ]
    },
    {
     "name": "stderr",
     "output_type": "stream",
     "text": [
      "2017-07-27 15:19:24,111 - INFO - pswalker.plans - No model yielded accurate prediction, using naive plan\n",
      "2017-07-27 15:19:24,112 - INFO - pswalker.plans - Using gradient of 46.000925248471304 for naive step...\n",
      "2017-07-27 15:19:24,143 - INFO - pswalker.plans - ['TST:test_dg3_detector_stats2_centroid_x', 'MIRR:TST:test_m2h_pitch']\n",
      "2017-07-27 15:19:24,144 - INFO - pswalker.plans - {'TST:test_dg3_detector_stats2_centroid_x': -943.81593963680211, 'MIRR:TST:test_m2h_pitch': 1428.3775283335783}\n",
      "2017-07-27 15:19:24,276 - INFO - pswalker.plans - Averaged data yielded TST:test_dg3_detector_stats2_centroid_x is at 271.0970946915777\n",
      "2017-07-27 15:19:24,278 - INFO - pswalker.plans - Succesfully walked to value 271.0970946915777 (target=270.0) after 1 steps.\n",
      "2017-07-27 15:19:24,279 - INFO - pswalker.iterwalk - Found equation of (46.016570791377, -66672.16732969743) between linear fit of MIRR:TST:test_m2h to TST:test_dg3\n",
      "2017-07-27 15:19:24,546 - INFO - pswalker.plans - Averaged data yielded TST:test_p3h_detector_stats2_centroid_x is at 219.45717624418373\n",
      "2017-07-27 15:19:24,547 - INFO - pswalker.callbacks - Unable to yield estimate from model Model(linear)\n",
      "2017-07-27 15:19:24,548 - INFO - pswalker.plans - Walking motor, error after step #0 -> -9.457176244183728\n",
      "2017-07-27 15:19:24,549 - INFO - pswalker.plans - No model yielded accurate prediction, using naive plan\n",
      "2017-07-27 15:19:24,550 - INFO - pswalker.plans - Using gradient of -2.2611968819750774 for naive step...\n",
      "2017-07-27 15:19:24,585 - INFO - pswalker.plans - ['TST:test_p3h_detector_stats2_centroid_x', 'MIRR:TST:test_m1h_pitch']\n",
      "2017-07-27 15:19:24,586 - INFO - pswalker.plans - {'TST:test_p3h_detector_stats2_centroid_x': 218.87644763666387, 'MIRR:TST:test_m1h_pitch': 1453.6355714808947}\n",
      "2017-07-27 15:19:24,722 - INFO - pswalker.plans - Averaged data yielded TST:test_p3h_detector_stats2_centroid_x is at 209.70188122541873\n",
      "2017-07-27 15:19:24,724 - INFO - pswalker.plans - Succesfully walked to value 209.70188122541873 (target=210) after 1 steps.\n",
      "2017-07-27 15:19:24,725 - INFO - pswalker.iterwalk - Found equation of (-2.4111077648314954, 3724.0388255732764) between linear fit of MIRR:TST:test_m1h to TST:test_p3h\n",
      "2017-07-27 15:19:24,999 - INFO - pswalker.plans - Averaged data yielded TST:test_dg3_detector_stats2_centroid_x is at 80.64949699274533\n",
      "2017-07-27 15:19:25,002 - INFO - pswalker.callbacks - Unable to yield estimate from model Model(linear)\n",
      "2017-07-27 15:19:25,003 - INFO - pswalker.plans - Walking motor, error after step #0 -> 189.35050300725467\n",
      "2017-07-27 15:19:25,004 - INFO - pswalker.plans - No model yielded accurate prediction, using naive plan\n",
      "2017-07-27 15:19:25,005 - INFO - pswalker.plans - Using gradient of 46.016570791377 for naive step...\n",
      "2017-07-27 15:19:25,046 - INFO - pswalker.plans - ['TST:test_dg3_detector_stats2_centroid_x', 'MIRR:TST:test_m2h_pitch']\n",
      "2017-07-27 15:19:25,047 - INFO - pswalker.plans - {'TST:test_dg3_detector_stats2_centroid_x': 81.21418969411512, 'MIRR:TST:test_m2h_pitch': 1454.7643006230583}\n",
      "2017-07-27 15:19:25,187 - INFO - pswalker.plans - Averaged data yielded TST:test_dg3_detector_stats2_centroid_x is at 268.71728074907094\n",
      "2017-07-27 15:19:25,188 - INFO - pswalker.plans - Succesfully walked to value 268.71728074907094 (target=270.0) after 1 steps.\n",
      "2017-07-27 15:19:25,189 - INFO - pswalker.iterwalk - Found equation of (45.772729740467376, -66507.60132515588) between linear fit of MIRR:TST:test_m2h to TST:test_dg3\n",
      "2017-07-27 15:19:25,432 - INFO - pswalker.iterwalk - Finished in 4.10s after 8 mirror walks, 9 yag cycles, and 0 recoveries\n",
      "2017-07-27 15:19:25,433 - INFO - pswalker.iterwalk - Aligned to [209.98251596656928, 268.71728074907094]\n",
      "2017-07-27 15:19:25,435 - INFO - pswalker.iterwalk - Goals were [210, 270]\n",
      "2017-07-27 15:19:25,436 - INFO - pswalker.iterwalk - Deltas are [-0.017484033430719137, -1.2827192509290626]\n"
     ]
    },
    {
     "data": {
      "text/plain": [
       "['a808ffce-0be1-4017-80b9-4f09be41c2d7']"
      ]
     },
     "execution_count": 6,
     "metadata": {},
     "output_type": "execute_result"
    }
   ],
   "source": [
    "RE(plan)"
   ]
  },
  {
   "cell_type": "code",
   "execution_count": 7,
   "metadata": {},
   "outputs": [
    {
     "name": "stdout",
     "output_type": "stream",
     "text": [
      "\n",
      "Skywalker successfuly aligned MIRR:TST:test_m1h, MIRR:TST:test_m2h to 210, 270\n",
      "on TST:test_p3h, TST:test_dg3 in 0.0 seconds! The entire alignment moved the\n",
      "mirrors 13 times, cycling between YAGs 9 times. The user requested that the\n",
      "mirrors hit their targets within 2.0 pixels, averaging over 1 consecutive\n",
      "images after each mirror motion. The resulting locations of mirrors and\n",
      "centroid measurements can be seen in the table below.\n",
      "\n",
      "+-----------------------------------------+---------------------+\n",
      "|                                   Field | Last Measured Value |\n",
      "+-----------------------------------------+---------------------+\n",
      "| TST:test_p3h_detector_stats2_centroid_x |           209.98252 |\n",
      "|                 MIRR:TST:test_m1h_pitch |          1457.56112 |\n",
      "| TST:test_dg3_detector_stats2_centroid_x |           268.87275 |\n",
      "|                 MIRR:TST:test_m2h_pitch |          1458.86686 |\n",
      "+-----------------------------------------+---------------------+\n"
     ]
    },
    {
     "data": {
      "text/plain": [
       "'\\nSkywalker successfuly aligned MIRR:TST:test_m1h, MIRR:TST:test_m2h to 210, 270\\non TST:test_p3h, TST:test_dg3 in 0.0 seconds! The entire alignment moved the\\nmirrors 13 times, cycling between YAGs 9 times. The user requested that the\\nmirrors hit their targets within 2.0 pixels, averaging over 1 consecutive\\nimages after each mirror motion. The resulting locations of mirrors and\\ncentroid measurements can be seen in the table below.\\n\\n+-----------------------------------------+---------------------+\\n|                                   Field | Last Measured Value |\\n+-----------------------------------------+---------------------+\\n| TST:test_p3h_detector_stats2_centroid_x |           209.98252 |\\n|                 MIRR:TST:test_m1h_pitch |          1457.56112 |\\n| TST:test_dg3_detector_stats2_centroid_x |           268.87275 |\\n|                 MIRR:TST:test_m2h_pitch |          1458.86686 |\\n+-----------------------------------------+---------------------+'"
      ]
     },
     "execution_count": 7,
     "metadata": {},
     "output_type": "execute_result"
    }
   ],
   "source": [
    "#Print Run Statistics\n",
    "watcher.report()"
   ]
  },
  {
   "cell_type": "code",
   "execution_count": null,
   "metadata": {
    "collapsed": true
   },
   "outputs": [],
   "source": []
  }
 ],
 "metadata": {
  "kernelspec": {
   "display_name": "Python 3",
   "language": "python",
   "name": "python3"
  },
  "language_info": {
   "codemirror_mode": {
    "name": "ipython",
    "version": 3
   },
   "file_extension": ".py",
   "mimetype": "text/x-python",
   "name": "python",
   "nbconvert_exporter": "python",
   "pygments_lexer": "ipython3",
   "version": "3.6.1"
  }
 },
 "nbformat": 4,
 "nbformat_minor": 2
}
